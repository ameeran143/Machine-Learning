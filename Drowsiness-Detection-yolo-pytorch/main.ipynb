{
 "cells": [
  {
   "cell_type": "markdown",
   "source": [
    "# Drowsiness Detection\n",
    "\n",
    "Step 1: installing dependencies."
   ],
   "metadata": {
    "collapsed": false
   }
  },
  {
   "cell_type": "code",
   "execution_count": 2,
   "metadata": {
    "collapsed": true
   },
   "outputs": [
    {
     "name": "stdout",
     "output_type": "stream",
     "text": [
      "<module 'torch' from '/Users/aashirmeeran/opt/anaconda3/envs/ml/lib/python3.8/site-packages/torch/__init__.py'>\n"
     ]
    }
   ],
   "source": [
    "import torch\n",
    "print(torch)"
   ]
  }
 ],
 "metadata": {
  "kernelspec": {
   "name": "pycharm-3104d4b4",
   "language": "python",
   "display_name": "PyCharm (Drowsiness-Detection-yolo-pytorch)"
  },
  "language_info": {
   "codemirror_mode": {
    "name": "ipython",
    "version": 2
   },
   "file_extension": ".py",
   "mimetype": "text/x-python",
   "name": "python",
   "nbconvert_exporter": "python",
   "pygments_lexer": "ipython2",
   "version": "2.7.6"
  }
 },
 "nbformat": 4,
 "nbformat_minor": 0
}